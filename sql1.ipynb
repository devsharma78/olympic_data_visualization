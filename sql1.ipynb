{
 "cells": [
  {
   "cell_type": "code",
   "execution_count": 1,
   "metadata": {},
   "outputs": [],
   "source": [
    "import sqlite3\n",
    "import pandas as pd\n",
    "import numpy as np\n",
    "import mysql.connector as msql\n",
    "from mysql.connector import Error"
   ]
  },
  {
   "cell_type": "code",
   "execution_count": 2,
   "metadata": {},
   "outputs": [],
   "source": [
    "empdata = pd.read_csv('noc_regions.csv')\n",
    "empdata1 = pd.read_csv('athlete_events.csv')\n",
    "empdata = empdata.fillna(\"\")\n",
    "empdata1 = empdata1.fillna({'Height' : 0})\n",
    "empdata1 = empdata1.fillna({'Weight' : 0})\n",
    "empdata1 = empdata1.fillna({'Age' : 0})\n",
    "empdata1 = empdata1.fillna({'Medal' : \"\"})"
   ]
  },
  {
   "cell_type": "code",
   "execution_count": 5,
   "metadata": {},
   "outputs": [],
   "source": [
    "import mysql.connector as msql\n",
    "from mysql.connector import Error\n",
    "try:\n",
    "    conn = msql.connect(host='localhost', database='olympic_data_visualization', user='root', password='mysql')\n",
    "    if conn.is_connected():\n",
    "        cursor = conn.cursor()\n",
    "        cursor.execute(\"select database();\")\n",
    "        record = cursor.fetchone()\n",
    "        cursor.execute('DROP TABLE IF EXISTS noc_regions;')\n",
    "        # in the below line please pass the create table statement which you want #to create\n",
    "        cursor.execute(\"CREATE TABLE noc_regions(NOC varchar(45) NOT NULL,region varchar(45),notes varchar(45))\")\n",
    "        #loop through the data frame\n",
    "        i = 0\n",
    "        for row in empdata.iterrows():\n",
    "            #here %S means string values \n",
    "            sql = (\"INSERT INTO olympic_data_visualization.noc_regions(NOC, region, notes) \" \"VALUES (%s, %s, %s)\")\n",
    "            cursor.execute(sql, (empdata['NOC'][i], empdata['region'][i], empdata['notes'][i]))\n",
    "            i = i+1\n",
    "            # the connection is not auto committed by default, so we must commit to save our changes\n",
    "            conn.commit()\n",
    "except Error as e:\n",
    "            print(\"Error while connecting to MySQL\", e)"
   ]
  },
  {
   "cell_type": "code",
   "execution_count": 7,
   "metadata": {},
   "outputs": [],
   "source": [
    "import mysql.connector as msql\n",
    "from mysql.connector import Error\n",
    "try:\n",
    "    conn = msql.connect(host='localhost', database='olympic_data_visualization', user='root', password='mysql')\n",
    "    if conn.is_connected():\n",
    "        cursor = conn.cursor(prepared=True)\n",
    "        cursor.execute(\"select database();\")\n",
    "        record = cursor.fetchone()\n",
    "        cursor.execute('DROP TABLE IF EXISTS athlete_events;')\n",
    "        # in the below line please pass the create table statement which you want #to create\n",
    "        cursor.execute(\"CREATE TABLE athlete_events(ID int, Name varchar(255), Sex varchar(10), Age float, Height float, Weight float, Team varchar(255), NOC varchar(255), Games varchar(255), Year int, Season varchar(255), City varchar(255), Sport varchar(255), Event varchar(255), Medal varchar(255))\")\n",
    "        #loop through the data frame\n",
    "        i = 0\n",
    "        for row in empdata1.iterrows():\n",
    "            #here %S means string values \n",
    "            sql = (\"INSERT INTO olympic_data_visualization.athlete_events(ID, Name, Sex, Age, Height, Weight, Team, NOC, Games, Year, Season, City, Sport, Event, Medal) \" \"VALUES (?, ?, ?, ?, ?, ?, ?, ?, ?, ?, ?, ?, ?, ?, ?)\")\n",
    "            cursor.execute(sql, (int(empdata1['ID'][i]), empdata1['Name'][i], empdata1['Sex'][i], float(empdata1['Age'][i]), float(empdata1['Height'][i]), float(empdata1['Weight'][i]), empdata1['Team'][i], empdata1['NOC'][i], empdata1['Games'][i], int(empdata1['Year'][i]), empdata1['Season'][i], empdata1['City'][i], empdata1['Sport'][i], empdata1['Event'][i], str(empdata1['Medal'][i])))\n",
    "            i = i+1\n",
    "            # the connection is not auto committed by default, so we must commit to save our changes\n",
    "            conn.commit()\n",
    "except Error as e:\n",
    "            print(\"Error while connecting to MySQL\", e)"
   ]
  }
 ],
 "metadata": {
  "kernelspec": {
   "display_name": "Python 3",
   "language": "python",
   "name": "python3"
  },
  "language_info": {
   "codemirror_mode": {
    "name": "ipython",
    "version": 3
   },
   "file_extension": ".py",
   "mimetype": "text/x-python",
   "name": "python",
   "nbconvert_exporter": "python",
   "pygments_lexer": "ipython3",
   "version": "3.11.3"
  },
  "orig_nbformat": 4
 },
 "nbformat": 4,
 "nbformat_minor": 2
}
